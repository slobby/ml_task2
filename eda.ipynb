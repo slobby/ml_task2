{
 "cells": [
  {
   "cell_type": "markdown",
   "id": "d566c5b7",
   "metadata": {},
   "source": [
    "Предметом исследования являются данные о пассажирах Титаника.\n",
    "Цель данной работы: определить параметры которые в большей степени могут повлиять на выживаемость пассажиров."
   ]
  },
  {
   "cell_type": "markdown",
   "id": "d07912a0",
   "metadata": {},
   "source": [
    "### Context"
   ]
  },
  {
   "cell_type": "code",
   "execution_count": 1,
   "id": "d5cb564b",
   "metadata": {},
   "outputs": [],
   "source": [
    "import numpy as np\n",
    "import pandas as pd\n",
    "import matplotlib.pyplot as plt\n",
    "import seaborn as sns"
   ]
  },
  {
   "cell_type": "markdown",
   "id": "c796cd9c",
   "metadata": {},
   "source": [
    "Загрузим и посмотрим, что получили:"
   ]
  },
  {
   "cell_type": "code",
   "execution_count": 10,
   "id": "5f37c919",
   "metadata": {},
   "outputs": [
    {
     "data": {
      "text/html": [
       "<div>\n",
       "<style scoped>\n",
       "    .dataframe tbody tr th:only-of-type {\n",
       "        vertical-align: middle;\n",
       "    }\n",
       "\n",
       "    .dataframe tbody tr th {\n",
       "        vertical-align: top;\n",
       "    }\n",
       "\n",
       "    .dataframe thead th {\n",
       "        text-align: right;\n",
       "    }\n",
       "</style>\n",
       "<table border=\"1\" class=\"dataframe\">\n",
       "  <thead>\n",
       "    <tr style=\"text-align: right;\">\n",
       "      <th></th>\n",
       "      <th>PassengerId</th>\n",
       "      <th>Survived</th>\n",
       "      <th>Pclass</th>\n",
       "      <th>Name</th>\n",
       "      <th>Sex</th>\n",
       "      <th>Age</th>\n",
       "      <th>SibSp</th>\n",
       "      <th>Parch</th>\n",
       "      <th>Ticket</th>\n",
       "      <th>Fare</th>\n",
       "      <th>Cabin</th>\n",
       "      <th>Embarked</th>\n",
       "    </tr>\n",
       "  </thead>\n",
       "  <tbody>\n",
       "    <tr>\n",
       "      <th>0</th>\n",
       "      <td>0</td>\n",
       "      <td>1</td>\n",
       "      <td>1</td>\n",
       "      <td>Oconnor, Frankie</td>\n",
       "      <td>male</td>\n",
       "      <td>NaN</td>\n",
       "      <td>2</td>\n",
       "      <td>0</td>\n",
       "      <td>209245</td>\n",
       "      <td>27.14</td>\n",
       "      <td>C12239</td>\n",
       "      <td>S</td>\n",
       "    </tr>\n",
       "    <tr>\n",
       "      <th>1</th>\n",
       "      <td>1</td>\n",
       "      <td>0</td>\n",
       "      <td>3</td>\n",
       "      <td>Bryan, Drew</td>\n",
       "      <td>male</td>\n",
       "      <td>NaN</td>\n",
       "      <td>0</td>\n",
       "      <td>0</td>\n",
       "      <td>27323</td>\n",
       "      <td>13.35</td>\n",
       "      <td>NaN</td>\n",
       "      <td>S</td>\n",
       "    </tr>\n",
       "    <tr>\n",
       "      <th>2</th>\n",
       "      <td>2</td>\n",
       "      <td>0</td>\n",
       "      <td>3</td>\n",
       "      <td>Owens, Kenneth</td>\n",
       "      <td>male</td>\n",
       "      <td>0.33</td>\n",
       "      <td>1</td>\n",
       "      <td>2</td>\n",
       "      <td>CA 457703</td>\n",
       "      <td>71.29</td>\n",
       "      <td>NaN</td>\n",
       "      <td>S</td>\n",
       "    </tr>\n",
       "    <tr>\n",
       "      <th>3</th>\n",
       "      <td>3</td>\n",
       "      <td>0</td>\n",
       "      <td>3</td>\n",
       "      <td>Kramer, James</td>\n",
       "      <td>male</td>\n",
       "      <td>19.00</td>\n",
       "      <td>0</td>\n",
       "      <td>0</td>\n",
       "      <td>A. 10866</td>\n",
       "      <td>13.04</td>\n",
       "      <td>NaN</td>\n",
       "      <td>S</td>\n",
       "    </tr>\n",
       "    <tr>\n",
       "      <th>4</th>\n",
       "      <td>4</td>\n",
       "      <td>1</td>\n",
       "      <td>3</td>\n",
       "      <td>Bond, Michael</td>\n",
       "      <td>male</td>\n",
       "      <td>25.00</td>\n",
       "      <td>0</td>\n",
       "      <td>0</td>\n",
       "      <td>427635</td>\n",
       "      <td>7.76</td>\n",
       "      <td>NaN</td>\n",
       "      <td>S</td>\n",
       "    </tr>\n",
       "    <tr>\n",
       "      <th>5</th>\n",
       "      <td>5</td>\n",
       "      <td>0</td>\n",
       "      <td>2</td>\n",
       "      <td>Sassano, Jonathan</td>\n",
       "      <td>male</td>\n",
       "      <td>35.00</td>\n",
       "      <td>0</td>\n",
       "      <td>0</td>\n",
       "      <td>13363</td>\n",
       "      <td>6.71</td>\n",
       "      <td>NaN</td>\n",
       "      <td>S</td>\n",
       "    </tr>\n",
       "    <tr>\n",
       "      <th>6</th>\n",
       "      <td>6</td>\n",
       "      <td>0</td>\n",
       "      <td>3</td>\n",
       "      <td>Conway, Jose</td>\n",
       "      <td>male</td>\n",
       "      <td>7.00</td>\n",
       "      <td>0</td>\n",
       "      <td>0</td>\n",
       "      <td>A/5</td>\n",
       "      <td>9.77</td>\n",
       "      <td>NaN</td>\n",
       "      <td>S</td>\n",
       "    </tr>\n",
       "    <tr>\n",
       "      <th>7</th>\n",
       "      <td>7</td>\n",
       "      <td>1</td>\n",
       "      <td>3</td>\n",
       "      <td>Werner, Linda</td>\n",
       "      <td>female</td>\n",
       "      <td>6.00</td>\n",
       "      <td>1</td>\n",
       "      <td>2</td>\n",
       "      <td>434426</td>\n",
       "      <td>31.50</td>\n",
       "      <td>NaN</td>\n",
       "      <td>S</td>\n",
       "    </tr>\n",
       "    <tr>\n",
       "      <th>8</th>\n",
       "      <td>8</td>\n",
       "      <td>0</td>\n",
       "      <td>1</td>\n",
       "      <td>Wardlaw, Michael</td>\n",
       "      <td>male</td>\n",
       "      <td>27.00</td>\n",
       "      <td>2</td>\n",
       "      <td>1</td>\n",
       "      <td>474849</td>\n",
       "      <td>73.02</td>\n",
       "      <td>A7253</td>\n",
       "      <td>S</td>\n",
       "    </tr>\n",
       "    <tr>\n",
       "      <th>9</th>\n",
       "      <td>9</td>\n",
       "      <td>0</td>\n",
       "      <td>2</td>\n",
       "      <td>Greigo, Rudy</td>\n",
       "      <td>male</td>\n",
       "      <td>66.00</td>\n",
       "      <td>0</td>\n",
       "      <td>0</td>\n",
       "      <td>6981</td>\n",
       "      <td>9.14</td>\n",
       "      <td>D2969</td>\n",
       "      <td>C</td>\n",
       "    </tr>\n",
       "  </tbody>\n",
       "</table>\n",
       "</div>"
      ],
      "text/plain": [
       "   PassengerId  Survived  Pclass               Name     Sex    Age  SibSp  \\\n",
       "0            0         1       1   Oconnor, Frankie    male    NaN      2   \n",
       "1            1         0       3        Bryan, Drew    male    NaN      0   \n",
       "2            2         0       3     Owens, Kenneth    male   0.33      1   \n",
       "3            3         0       3      Kramer, James    male  19.00      0   \n",
       "4            4         1       3      Bond, Michael    male  25.00      0   \n",
       "5            5         0       2  Sassano, Jonathan    male  35.00      0   \n",
       "6            6         0       3       Conway, Jose    male   7.00      0   \n",
       "7            7         1       3      Werner, Linda  female   6.00      1   \n",
       "8            8         0       1   Wardlaw, Michael    male  27.00      2   \n",
       "9            9         0       2       Greigo, Rudy    male  66.00      0   \n",
       "\n",
       "   Parch     Ticket   Fare   Cabin Embarked  \n",
       "0      0     209245  27.14  C12239        S  \n",
       "1      0      27323  13.35     NaN        S  \n",
       "2      2  CA 457703  71.29     NaN        S  \n",
       "3      0   A. 10866  13.04     NaN        S  \n",
       "4      0     427635   7.76     NaN        S  \n",
       "5      0      13363   6.71     NaN        S  \n",
       "6      0       A/5    9.77     NaN        S  \n",
       "7      2     434426  31.50     NaN        S  \n",
       "8      1     474849  73.02   A7253        S  \n",
       "9      0       6981   9.14   D2969        C  "
      ]
     },
     "execution_count": 10,
     "metadata": {},
     "output_type": "execute_result"
    }
   ],
   "source": [
    "data = pd.read_csv(\"./data/train.csv\", parse_dates=True)\n",
    "data.head(10)"
   ]
  },
  {
   "cell_type": "code",
   "execution_count": 31,
   "id": "7055e747",
   "metadata": {},
   "outputs": [
    {
     "data": {
      "text/plain": [
       "(100000, 12)"
      ]
     },
     "execution_count": 31,
     "metadata": {},
     "output_type": "execute_result"
    }
   ],
   "source": [
    "data.shape"
   ]
  },
  {
   "cell_type": "markdown",
   "id": "2562f814",
   "metadata": {},
   "source": [
    "Я думал на Титанике было тысячи 3 человек, а не 100 тыс."
   ]
  },
  {
   "cell_type": "markdown",
   "id": "9b4320c6",
   "metadata": {},
   "source": [
    "### Data quality assessment"
   ]
  },
  {
   "cell_type": "markdown",
   "id": "6ddae846",
   "metadata": {},
   "source": [
    "Посмотрим есть ли дубликаты по 'Survived', 'Pclass','Name','Sex','Age','SibSp','Parch','Ticket'"
   ]
  },
  {
   "cell_type": "code",
   "execution_count": 75,
   "id": "2a8ca641",
   "metadata": {},
   "outputs": [
    {
     "data": {
      "text/plain": [
       "Series([], dtype: int64)"
      ]
     },
     "execution_count": 75,
     "metadata": {},
     "output_type": "execute_result"
    }
   ],
   "source": [
    "data[data[['Survived', 'Pclass','Name','Sex','Age','SibSp','Parch','Ticket']].duplicated()].groupby('Name').size()\n"
   ]
  },
  {
   "cell_type": "markdown",
   "id": "aa5dd199",
   "metadata": {},
   "source": [
    "Пока дубликатов нет. Но если убрать Ticket и далее, то они начинают появляться"
   ]
  },
  {
   "cell_type": "code",
   "execution_count": 116,
   "id": "25fcc6ef",
   "metadata": {},
   "outputs": [
    {
     "data": {
      "text/plain": [
       "292"
      ]
     },
     "execution_count": 116,
     "metadata": {},
     "output_type": "execute_result"
    }
   ],
   "source": [
    "df = data[['Name','Sex','Age']]\n",
    "df[df.duplicated()].shape[0]"
   ]
  },
  {
   "cell_type": "markdown",
   "metadata": {},
   "source": [
    "292 - будем считать что это тезки в кубе, и не будем от них избавляться."
   ]
  },
  {
   "cell_type": "markdown",
   "id": "72240c1d",
   "metadata": {},
   "source": [
    "Посмотрим на отсутствующие данные. В предоставленных данных часть отсутствующей информации была отмечена символом NaN. Но возможно среди символьных есть пропуски, которые не были отмечены NaN."
   ]
  },
  {
   "cell_type": "code",
   "execution_count": 28,
   "id": "e443ca82",
   "metadata": {},
   "outputs": [
    {
     "data": {
      "text/plain": [
       "Name      0\n",
       "Sex       0\n",
       "Ticket    0\n",
       "Cabin     0\n",
       "dtype: int64"
      ]
     },
     "execution_count": 28,
     "metadata": {},
     "output_type": "execute_result"
    }
   ],
   "source": [
    "data[['Name', 'Sex', 'Ticket', 'Cabin']].apply(lambda x: x == '').sum()"
   ]
  },
  {
   "cell_type": "markdown",
   "id": "6edec371",
   "metadata": {},
   "source": [
    "Так, пропусков нет, можно посмотреть сколько всего имеем пропущенных данных. Для графического представления воспользуемся heatmap"
   ]
  },
  {
   "cell_type": "code",
   "execution_count": 33,
   "id": "40b5bcbe",
   "metadata": {},
   "outputs": [
    {
     "data": {
      "text/plain": [
       "<AxesSubplot:>"
      ]
     },
     "execution_count": 33,
     "metadata": {},
     "output_type": "execute_result"
    },
    {
     "data": {
      "image/png": "[encoded data removed]",
      "text/plain": [
       "<Figure size 720x432 with 2 Axes>"
      ]
     },
     "metadata": {
      "needs_background": "light"
     },
     "output_type": "display_data"
    }
   ],
   "source": [
    "plt.figure(figsize=(10, 6))\n",
    "sns.heatmap(data.isna().transpose(),\n",
    "            cmap=\"YlGnBu\",\n",
    "            cbar_kws={'label': 'Missing Data'})"
   ]
  },
  {
   "cell_type": "code",
   "execution_count": 41,
   "id": "f8f5b39b",
   "metadata": {},
   "outputs": [
    {
     "data": {
      "text/plain": [
       "PassengerId     0.000\n",
       "Survived        0.000\n",
       "Pclass          0.000\n",
       "Name            0.000\n",
       "Sex             0.000\n",
       "Age             3.292\n",
       "SibSp           0.000\n",
       "Parch           0.000\n",
       "Ticket          4.623\n",
       "Fare            0.134\n",
       "Cabin          67.866\n",
       "Embarked        0.250\n",
       "dtype: float64"
      ]
     },
     "execution_count": 41,
     "metadata": {},
     "output_type": "execute_result"
    }
   ],
   "source": [
    "data.apply(lambda x: pd.isna(x)).sum()*100/data.shape[0]"
   ]
  },
  {
   "cell_type": "markdown",
   "id": "e25a132d",
   "metadata": {},
   "source": [
    "Таким образом пропущенно около 4% данных в переменной Age, 5% в переменной Ticket и почти 68% в Cabin. И если с возрастом пассажиров и стоимостью билета можно провести обоснованное замещение пропущенных значений средним по классу, в связи с небольшой их долей, то с каютами такое не получится сделать, т.к. пропущенных значений существенно больше нежели заполненных. Пропущенные значения в признаке Embarked заменим на наиболее часто встречающееся место посадки.\n"
   ]
  },
  {
   "cell_type": "code",
   "execution_count": 44,
   "id": "3e83ed7f",
   "metadata": {},
   "outputs": [
    {
     "data": {
      "text/plain": [
       "S    72139\n",
       "C    22187\n",
       "Q     5424\n",
       "Name: Embarked, dtype: int64"
      ]
     },
     "execution_count": 44,
     "metadata": {},
     "output_type": "execute_result"
    }
   ],
   "source": [
    "data['Embarked'].value_counts()"
   ]
  },
  {
   "cell_type": "markdown",
   "id": "9504fd88",
   "metadata": {},
   "source": [
    "Наиболее часто встречающееся место посадки - 'S'.\n",
    "\n",
    "Возраст возьмем не средний по набору, а средний по каждому классу каюты, так как скорее всего в более дорогом классе ехали более состоятельные люди, а в более дешевом молодые - которые хотели эмигрировать в Америку и соответственно имевшие меньше денежных средств.\n",
    "Еслибы в поле Name имелся гоноратив то тогда можно было заменить на среднее в зависимости от гоноратива, но такого поля нет."
   ]
  },
  {
   "cell_type": "code",
   "execution_count": 120,
   "id": "d80d84da",
   "metadata": {},
   "outputs": [
    {
     "data": {
      "text/plain": [
       "<AxesSubplot:xlabel='Pclass', ylabel='Age'>"
      ]
     },
     "execution_count": 120,
     "metadata": {},
     "output_type": "execute_result"
    },
    {
     "data": {
      "image/png": "[encoded data removed]",
      "text/plain": [
       "<Figure size 720x432 with 1 Axes>"
      ]
     },
     "metadata": {
      "needs_background": "light"
     },
     "output_type": "display_data"
    }
   ],
   "source": [
    "plt.figure(figsize=(10, 6))\n",
    "sns.boxplot(x=\"Pclass\", y=\"Age\", data=data)\n"
   ]
  },
  {
   "cell_type": "code",
   "execution_count": 48,
   "id": "f19534bb",
   "metadata": {},
   "outputs": [
    {
     "data": {
      "text/plain": [
       "Pclass\n",
       "1    44.774464\n",
       "2    38.631237\n",
       "3    33.407362\n",
       "Name: Age, dtype: float64"
      ]
     },
     "execution_count": 48,
     "metadata": {},
     "output_type": "execute_result"
    }
   ],
   "source": [
    "data.groupby('Pclass')['Age'].mean()\n"
   ]
  },
  {
   "cell_type": "markdown",
   "id": "a5c2af82",
   "metadata": {},
   "source": [
    "Средний возраст по классам - 45, 39, 33 соответственно.\n",
    "\n",
    "Так же воспрос с Ticket их вроде и не много но если посмотреть на распределение:"
   ]
  },
  {
   "cell_type": "code",
   "execution_count": 45,
   "id": "97bad5e0",
   "metadata": {},
   "outputs": [
    {
     "data": {
      "text/plain": [
       "A/5             602\n",
       "C.A.            177\n",
       "SC/PARIS        145\n",
       "SOTON/O.Q.       80\n",
       "SC               57\n",
       "               ... \n",
       "421812            1\n",
       "PC 420601         1\n",
       "PC 26800          1\n",
       "STON/O 23755      1\n",
       "458074            1\n",
       "Name: Ticket, Length: 75331, dtype: int64"
      ]
     },
     "execution_count": 45,
     "metadata": {},
     "output_type": "execute_result"
    }
   ],
   "source": [
    "data['Ticket'].value_counts()"
   ]
  },
  {
   "cell_type": "markdown",
   "id": "97d35eab",
   "metadata": {},
   "source": [
    "Явной закономерности в их содержании найти трудно, поэтому мы просто не будем пока использовать данный параметр.\n",
    "И так обновим наши данные с учетом выше указанных выводов и предположений."
   ]
  },
  {
   "cell_type": "markdown",
   "id": "5408eca5",
   "metadata": {},
   "source": [
    "### Data exploration"
   ]
  },
  {
   "cell_type": "markdown",
   "id": "1cdfd43e",
   "metadata": {},
   "source": []
  },
  {
   "cell_type": "code",
   "execution_count": 42,
   "id": "2417286d",
   "metadata": {},
   "outputs": [
    {
     "data": {
      "text/plain": [
       "A/5             602\n",
       "C.A.            177\n",
       "SC/PARIS        145\n",
       "SOTON/O.Q.       80\n",
       "SC               57\n",
       "               ... \n",
       "421812            1\n",
       "PC 420601         1\n",
       "PC 26800          1\n",
       "STON/O 23755      1\n",
       "458074            1\n",
       "Name: Ticket, Length: 75331, dtype: int64"
      ]
     },
     "execution_count": 42,
     "metadata": {},
     "output_type": "execute_result"
    }
   ],
   "source": []
  },
  {
   "cell_type": "markdown",
   "id": "034945c8",
   "metadata": {},
   "source": [
    "### Summary"
   ]
  },
  {
   "cell_type": "code",
   "execution_count": null,
   "id": "72e3fb13",
   "metadata": {},
   "outputs": [],
   "source": []
  }
 ],
 "metadata": {
  "kernelspec": {
   "display_name": "Python 3 (ipykernel)",
   "language": "python",
   "name": "python3"
  },
  "language_info": {
   "codemirror_mode": {
    "name": "ipython",
    "version": 3
   },
   "file_extension": ".py",
   "mimetype": "text/x-python",
   "name": "python",
   "nbconvert_exporter": "python",
   "pygments_lexer": "ipython3",
   "version": "3.10.2"
  },
  "toc": {
   "base_numbering": 1,
   "nav_menu": {},
   "number_sections": true,
   "sideBar": true,
   "skip_h1_title": false,
   "title_cell": "Table of Contents",
   "title_sidebar": "Contents",
   "toc_cell": false,
   "toc_position": {},
   "toc_section_display": true,
   "toc_window_display": false
  }
 },
 "nbformat": 4,
 "nbformat_minor": 5
}
